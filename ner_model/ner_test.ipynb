{
 "cells": [
  {
   "cell_type": "code",
   "execution_count": 12,
   "id": "initial_id",
   "metadata": {
    "collapsed": true,
    "ExecuteTime": {
     "end_time": "2024-03-12T15:51:06.919011Z",
     "start_time": "2024-03-12T15:51:06.315097Z"
    }
   },
   "outputs": [],
   "source": [
    "import spacy\n",
    "\n",
    "nlp = spacy.load(\"../ner_model/oppdatert_norsk_modell\")"
   ]
  },
  {
   "cell_type": "code",
   "outputs": [
    {
     "name": "stdout",
     "output_type": "stream",
     "text": [
      "Kan jeg Gjenstand\n",
      "ta med Gjenstand\n",
      "kniv Gjenstand\n",
      "på flyet Gjenstand\n",
      "? Gjenstand\n"
     ]
    }
   ],
   "source": [
    "doc = nlp(\"Kan jeg ta med kniv på flyet?\")\n",
    "for ent in doc.ents:\n",
    "    print(ent.text, ent.label_)"
   ],
   "metadata": {
    "collapsed": false,
    "ExecuteTime": {
     "end_time": "2024-03-12T15:51:06.962851Z",
     "start_time": "2024-03-12T15:51:06.925298Z"
    }
   },
   "id": "ac0b7eae62cf51d7",
   "execution_count": 13
  },
  {
   "cell_type": "code",
   "outputs": [],
   "source": [],
   "metadata": {
    "collapsed": false,
    "ExecuteTime": {
     "end_time": "2024-03-12T15:51:06.963354Z",
     "start_time": "2024-03-12T15:51:06.948817Z"
    }
   },
   "id": "c873f33b2f46ac5c",
   "execution_count": 13
  },
  {
   "cell_type": "code",
   "outputs": [],
   "source": [],
   "metadata": {
    "collapsed": false,
    "ExecuteTime": {
     "end_time": "2024-03-12T15:51:06.963904Z",
     "start_time": "2024-03-12T15:51:06.953928Z"
    }
   },
   "id": "f830cc03d232e451",
   "execution_count": 13
  }
 ],
 "metadata": {
  "kernelspec": {
   "display_name": "Python 3",
   "language": "python",
   "name": "python3"
  },
  "language_info": {
   "codemirror_mode": {
    "name": "ipython",
    "version": 2
   },
   "file_extension": ".py",
   "mimetype": "text/x-python",
   "name": "python",
   "nbconvert_exporter": "python",
   "pygments_lexer": "ipython2",
   "version": "2.7.6"
  }
 },
 "nbformat": 4,
 "nbformat_minor": 5
}
